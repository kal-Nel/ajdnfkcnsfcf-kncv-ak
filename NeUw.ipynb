{
 "cells": [
  {
   "cell_type": "code",
   "execution_count": 1,
   "id": "47fe6ba7",
   "metadata": {},
   "outputs": [
    {
     "data": {
      "text/plain": [
       "20"
      ]
     },
     "execution_count": 1,
     "metadata": {},
     "output_type": "execute_result"
    }
   ],
   "source": [
    "2*10"
   ]
  },
  {
   "cell_type": "code",
   "execution_count": 2,
   "id": "aca8413f",
   "metadata": {},
   "outputs": [
    {
     "data": {
      "text/plain": [
       "-95"
      ]
     },
     "execution_count": 2,
     "metadata": {},
     "output_type": "execute_result"
    }
   ],
   "source": [
    "5-100"
   ]
  },
  {
   "cell_type": "code",
   "execution_count": 3,
   "id": "908659db",
   "metadata": {},
   "outputs": [
    {
     "data": {
      "text/plain": [
       "109.9"
      ]
     },
     "execution_count": 3,
     "metadata": {},
     "output_type": "execute_result"
    }
   ],
   "source": [
    "x=10\n",
    "x*10.99"
   ]
  },
  {
   "cell_type": "code",
   "execution_count": 4,
   "id": "f371aa53",
   "metadata": {},
   "outputs": [
    {
     "data": {
      "text/plain": [
       "36"
      ]
     },
     "execution_count": 4,
     "metadata": {},
     "output_type": "execute_result"
    }
   ],
   "source": [
    "6**2\n",
    "6**2"
   ]
  },
  {
   "cell_type": "code",
   "execution_count": 1,
   "id": "db13f973",
   "metadata": {},
   "outputs": [
    {
     "data": {
      "text/plain": [
       "8217408.983505156"
      ]
     },
     "execution_count": 1,
     "metadata": {},
     "output_type": "execute_result"
    }
   ],
   "source": [
    "3774+8478/0.97*939.753"
   ]
  },
  {
   "cell_type": "code",
   "execution_count": 3,
   "id": "aaf1de66",
   "metadata": {},
   "outputs": [
    {
     "data": {
      "text/plain": [
       "-81085.542698367"
      ]
     },
     "execution_count": 3,
     "metadata": {},
     "output_type": "execute_result"
    }
   ],
   "source": [
    "9388.839+7398.9872-97873.368898367"
   ]
  },
  {
   "cell_type": "code",
   "execution_count": 6,
   "id": "d7b4495c",
   "metadata": {},
   "outputs": [
    {
     "data": {
      "text/plain": [
       "38.928014588016005"
      ]
     },
     "execution_count": 6,
     "metadata": {},
     "output_type": "execute_result"
    }
   ],
   "source": [
    ".9794*39.74679864"
   ]
  },
  {
   "cell_type": "code",
   "execution_count": 1,
   "id": "97486fd2",
   "metadata": {},
   "outputs": [
    {
     "data": {
      "text/plain": [
       "236.36705882352942"
      ]
     },
     "execution_count": 1,
     "metadata": {},
     "output_type": "execute_result"
    }
   ],
   "source": [
    "77+84.22+73+73/34"
   ]
  },
  {
   "cell_type": "code",
   "execution_count": 1,
   "id": "f26344a5",
   "metadata": {},
   "outputs": [
    {
     "data": {
      "text/plain": [
       "9993165"
      ]
     },
     "execution_count": 1,
     "metadata": {},
     "output_type": "execute_result"
    }
   ],
   "source": [
    "8301-2937-8381-3818+10000000"
   ]
  },
  {
   "cell_type": "markdown",
   "id": "022c343f",
   "metadata": {},
   "source": [
    "281927*372778-10000000"
   ]
  },
  {
   "cell_type": "code",
   "execution_count": 2,
   "id": "823cb59f",
   "metadata": {},
   "outputs": [
    {
     "data": {
      "text/plain": [
       "-366469410"
      ]
     },
     "execution_count": 2,
     "metadata": {},
     "output_type": "execute_result"
    }
   ],
   "source": [
    "10000-1928839*190"
   ]
  },
  {
   "cell_type": "code",
   "execution_count": null,
   "id": "b7345c3f",
   "metadata": {},
   "outputs": [],
   "source": []
  }
 ],
 "metadata": {
  "kernelspec": {
   "display_name": "Python 3",
   "language": "python",
   "name": "python3"
  },
  "language_info": {
   "codemirror_mode": {
    "name": "ipython",
    "version": 3
   },
   "file_extension": ".py",
   "mimetype": "text/x-python",
   "name": "python",
   "nbconvert_exporter": "python",
   "pygments_lexer": "ipython3",
   "version": "3.8.8"
  }
 },
 "nbformat": 4,
 "nbformat_minor": 5
}
